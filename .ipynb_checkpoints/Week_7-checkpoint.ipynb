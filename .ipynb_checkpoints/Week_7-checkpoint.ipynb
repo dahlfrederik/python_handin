{
 "cells": [
  {
   "cell_type": "code",
   "execution_count": 4,
   "metadata": {},
   "outputs": [],
   "source": [
    "import bs4\n",
    "import requests\n",
    "\n",
    "\n",
    "\n",
    "\"\"\"This is the exercise we chose: https://github.com/SebastianBentley/Python_Exercise7/blob/main/README.md\"\"\"\n",
    "\n",
    "#Exercise 1 \n",
    "\n",
    "r = requests.get('https://www.elgiganten.dk/catalog/gaming/dk-gaming-laptop/gaming-laptop')\n",
    "r.raise_for_status()\n",
    "soup = bs4.BeautifulSoup(r.text, 'html.parser')\n",
    "\n",
    "laptop_dict = {}\n",
    "\n",
    "dataset = soup.select('#view-filter-navigation > div.top-content.align-right.any-5-6.L-5-6.M-1-1.S-1-1 > div.recommended-products.align-right.any-1-1 > div') \n",
    "#print(dataset)\n",
    "price = soup.select('div[class=product-price]')\n",
    "name = soup.select('a[class=product-name]')\n"
   ]
  },
  {
   "cell_type": "code",
   "execution_count": 5,
   "metadata": {},
   "outputs": [
    {
     "name": "stdout",
     "output_type": "stream",
     "text": [
      "All matches: [('/asus', 'tuf-gaming-a15-fx506-15-6-gaming-computer-', 'o', 't'), ('/asus', 'rog-strix-g153qr-15-6-barbar-gaming-computer', 'g', 'a'), ('/asus', 'tuf-gaming-a15-fx506-15-6-barbar-gaming-comp', 't', 'r'), ('/asus', 'tuf-gaming-a17-fa706qm-17-3-barbar-gaming-computer', 'g', 'a'), ('/asus', 'zenbook-pro-15-ux535-15-6-barbar-computer-i7165121650t', 'f', 'd'), ('/asus', 'tuf-gaming-a17-fx706ii-h7048t-17-3-barbar-gaming-computer', 'g', 'a'), ('/asus', 'tuf-gaming-a15-fa506-15-6-barbar-computer-r585121', '6', 't')]\n"
     ]
    }
   ],
   "source": [
    "import re \n",
    "#Exercise 2\n",
    "\n",
    "brand_asus = re.compile(r'(/asus).([\\w\\-\\.]+).([\\w\\-\\.]+).([\\w\\-\\.]+)')\n",
    "all_asus = brand_asus.findall(str(name))\n",
    "\n",
    "print(\"All matches: {}\".format(all_asus))\n"
   ]
  }
 ],
 "metadata": {
  "kernelspec": {
   "display_name": "Python 3",
   "language": "python",
   "name": "python3"
  },
  "language_info": {
   "codemirror_mode": {
    "name": "ipython",
    "version": 3
   },
   "file_extension": ".py",
   "mimetype": "text/x-python",
   "name": "python",
   "nbconvert_exporter": "python",
   "pygments_lexer": "ipython3",
   "version": "3.8.5"
  }
 },
 "nbformat": 4,
 "nbformat_minor": 4
}

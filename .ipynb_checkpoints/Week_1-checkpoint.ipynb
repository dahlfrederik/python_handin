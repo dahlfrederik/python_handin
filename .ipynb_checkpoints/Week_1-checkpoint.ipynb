{
 "cells": [
  {
   "cell_type": "markdown",
   "metadata": {},
   "source": [
    "# Week 1 handin"
   ]
  },
  {
   "cell_type": "markdown",
   "metadata": {},
   "source": [
    "## 01 Assignment\n",
    "1. Create 5 list comprehensions to solve the following 5 problems:\n",
    "  1. Iterate a list of names to return a list of the names starting with H\n",
    "  2. In one line create a list of the numbers 1-100 to the power of 3\n",
    "  3. Iterate a list of names to create a list of tuples where the tuples first value is the length of the name and the second is the name\n",
    "  4. Iterate over each character in a string and get only those that are nummeric\n",
    "  5. Using only a list comprehension wrapped in set() get all possible combination from throwing 2 dice (hint use 2 for loops in a single list comprehension)\n",
    "\n",
    "2. Create 2 dictionary comprehensions to solve the following:\n",
    "  1. Iterate a list of names and create a dictionary where key is the name and value is the length of the name\n",
    "  2. Iterate a list of numbers and create a dictionary with {key:value} being {number:squareroot_of_number}\n",
    "\n",
    "3. Extra assignment (This one goes beyond what is covered in the course notebooks. So only do it if you want an extra challenge).\n",
    "  - Progammatically using loops create a small program to produce a dictionary with all the 2 dice throw combinations as keys and their likelyhood in percent as values"
   ]
  },
  {
   "cell_type": "markdown",
   "metadata": {},
   "source": [
    "## 02 Status\n",
    "Here is a status on the handin. How far you got. What is implemented and what is not"
   ]
  },
  {
   "cell_type": "markdown",
   "metadata": {},
   "source": [
    "## 03 Solutions for exercise 1"
   ]
  },
  {
   "cell_type": "code",
   "execution_count": 8,
   "metadata": {},
   "outputs": [],
   "source": [
    "# 1.A Iterate a list of names to return a list of the names starting with H"
   ]
  },
  {
   "cell_type": "code",
   "execution_count": 7,
   "metadata": {},
   "outputs": [
    {
     "name": "stdout",
     "output_type": "stream",
     "text": [
      "The original list: ['Henning', 'Henrik', 'Jørgen', 'Karsten', 'Hubert', 'Robert', 'Erik']\n",
      "The list after sorting with the letter, H, the result is: ['Henning', 'Henrik', 'Hubert']\n"
     ]
    }
   ],
   "source": [
    "name_list = list([\"Henning\",\"Henrik\",\"Jørgen\",\"Karsten\",\"Hubert\",\"Robert\",\"Erik\"])\n",
    "first_letter = \"H\"; \n",
    "print(\"The original list: \" + str(name_list))\n",
    "\n",
    "sorted_list = [idx for idx in name_list if idx[0] == first_letter] \n",
    "\n",
    "print(\"The list after sorting with the letter, \" + first_letter + \", the result is: \" + str(sorted_list))"
   ]
  },
  {
   "cell_type": "code",
   "execution_count": 9,
   "metadata": {},
   "outputs": [],
   "source": [
    "# 1.B In one line create a list of the numbers 1-100 to the power of 3"
   ]
  },
  {
   "cell_type": "code",
   "execution_count": 17,
   "metadata": {},
   "outputs": [
    {
     "name": "stdout",
     "output_type": "stream",
     "text": [
      "3 6 9 12 15 18 21 24 27 30 33 36 39 42 45 48 51 54 57 60 63 66 69 72 75 78 81 84 87 90 93 96 99 "
     ]
    }
   ],
   "source": [
    "for x in range(1*3,100,3):  \n",
    "    print(x, end=\" \")\n",
    "    \n"
   ]
  },
  {
   "cell_type": "code",
   "execution_count": 18,
   "metadata": {},
   "outputs": [],
   "source": [
    "# 1.C Iterate a list of names to create a list of tuples where the tuples first value is the length of the name and the second is the name"
   ]
  },
  {
   "cell_type": "code",
   "execution_count": 30,
   "metadata": {},
   "outputs": [
    {
     "name": "stdout",
     "output_type": "stream",
     "text": [
      "[('Henning', 7), ('Henrik', 6), ('Jørgen', 6), ('Karsten', 7), ('Hubert', 6), ('Robert', 6), ('Erik', 4)]\n"
     ]
    }
   ],
   "source": [
    "name_list = list([\"Henning\",\"Henrik\",\"Jørgen\",\"Karsten\",\"Hubert\",\"Robert\",\"Erik\"])\n",
    "res = [(val,len(val)) for val in name_list] \n",
    "print(res)"
   ]
  },
  {
   "cell_type": "markdown",
   "metadata": {},
   "source": [
    "#1.D Iterate over each character in a string and get only those that are nummeric"
   ]
  },
  {
   "cell_type": "code",
   "execution_count": 47,
   "metadata": {},
   "outputs": [
    {
     "name": "stdout",
     "output_type": "stream",
     "text": [
      "Total digits in range : 6\n",
      "Digits : 132213\n"
     ]
    }
   ],
   "source": [
    "name = \"1f3c2da213\"\n",
    "\n",
    "newstring =''\n",
    " \n",
    "\n",
    "count = 0\n",
    "\n",
    " \n",
    "for a in name:\n",
    "    if a.isdigit() == True:\n",
    "        count+= 1\n",
    "        newstring+= a\n",
    "         \n",
    "print(\"Total digits in range :\", count)\n",
    "print(\"Digits :\", newstring)"
   ]
  },
  {
   "cell_type": "code",
   "execution_count": 48,
   "metadata": {},
   "outputs": [],
   "source": [
    "#1.E Using only a list comprehension wrapped in set() get all possible combination from throwing 2 dice (hint use 2 for loops in a single list comprehension)"
   ]
  },
  {
   "cell_type": "code",
   "execution_count": 58,
   "metadata": {},
   "outputs": [
    {
     "name": "stdout",
     "output_type": "stream",
     "text": [
      "[[1, 1], [1, 2], [1, 3], [1, 4], [1, 5], [1, 6], [2, 1], [2, 2], [2, 3], [2, 4], [2, 5], [2, 6], [3, 1], [3, 2], [3, 3], [3, 4], [3, 5], [3, 6], [4, 1], [4, 2], [4, 3], [4, 4], [4, 5], [4, 6], [5, 1], [5, 2], [5, 3], [5, 4], [5, 5], [5, 6], [6, 1], [6, 2], [6, 3], [6, 4], [6, 5], [6, 6]]\n"
     ]
    }
   ],
   "source": [
    "dice = set(n for n in range(1,7))\n",
    "\n",
    "dice_values = []\n",
    "\n",
    "for x in dice:\n",
    "    for y in dice:\n",
    "        dice_values.append([x,y])\n",
    "\n",
    "print(dice_values)\n"
   ]
  },
  {
   "cell_type": "markdown",
   "metadata": {},
   "source": [
    "## 04 Solution part 2"
   ]
  },
  {
   "cell_type": "code",
   "execution_count": null,
   "metadata": {},
   "outputs": [],
   "source": [
    "# 2.A Iterate a list of names and create a dictionary where key is the name and value is the length of the name"
   ]
  },
  {
   "cell_type": "code",
   "execution_count": 62,
   "metadata": {},
   "outputs": [
    {
     "name": "stdout",
     "output_type": "stream",
     "text": [
      "{'Henning': 7, 'Henrik': 6, 'Jørgen': 6, 'Karsten': 7, 'Hubert': 6, 'Robert': 6, 'Erik': 4}\n"
     ]
    }
   ],
   "source": [
    "name_list = list([\"Henning\",\"Henrik\",\"Jørgen\",\"Karsten\",\"Hubert\",\"Robert\",\"Erik\"])\n",
    "converted_dict = {}\n",
    "for i in name_list:\n",
    "    converted_dict.update({i:len(i)})\n",
    "print(converted_dict)"
   ]
  },
  {
   "cell_type": "code",
   "execution_count": 66,
   "metadata": {},
   "outputs": [
    {
     "name": "stdout",
     "output_type": "stream",
     "text": [
      "{4: 2.0, 16: 4.0, 25: 5.0, 100: 10.0}\n"
     ]
    }
   ],
   "source": [
    "#2.B Iterate a list of numbers and create a dictionary with {key:value} being {number:squareroot_of_number}\n",
    "\n",
    "number_list = list([4,16,25,100])\n",
    "number_dict = {}\n",
    "\n",
    "for n in number_list:\n",
    "    number_dict.update({n:n**(1/2)})\n",
    "print(number_dict)\n"
   ]
  }
 ],
 "metadata": {
  "kernelspec": {
   "display_name": "Python 3",
   "language": "python",
   "name": "python3"
  },
  "language_info": {
   "codemirror_mode": {
    "name": "ipython",
    "version": 3
   },
   "file_extension": ".py",
   "mimetype": "text/x-python",
   "name": "python",
   "nbconvert_exporter": "python",
   "pygments_lexer": "ipython3",
   "version": "3.8.5"
  }
 },
 "nbformat": 4,
 "nbformat_minor": 4
}

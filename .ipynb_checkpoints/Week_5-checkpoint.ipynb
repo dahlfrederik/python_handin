{
 "cells": [
  {
   "cell_type": "markdown",
   "metadata": {},
   "source": [
    "### Ex1 \n",
    "Use data from Danmarks Statistik - Databanken\n",
    "Go to https://www.dst.dk/da/Statistik/brug-statistikken/muligheder-i-statistikbanken/api#testkonsol\n"
   ]
  },
  {
   "cell_type": "code",
   "execution_count": 2,
   "metadata": {},
   "outputs": [
    {
     "name": "stdout",
     "output_type": "stream",
     "text": [
      "            id                                               text       unit  \\\n",
      "0       FOLK1A                        Folketal den 1. i kvartalet      antal   \n",
      "1       FOLK1B                        Folketal den 1. i kvartalet      antal   \n",
      "2       FOLK1C                        Folketal den 1. i kvartalet      antal   \n",
      "3       FOLK1D                        Folketal den 1. i kvartalet      antal   \n",
      "4       FOLK1E                        Folketal den 1. i kvartalet      antal   \n",
      "...        ...                                                ...        ...   \n",
      "2223    FISK33       Fritlevende fisk og skaldyr (fysisk balance)        ton   \n",
      "2224    FISK22  Fisk og skaldyr i dam- og havbrug (økonomisk b...  1.000 kr.   \n",
      "2225  SKOVRG01                          Vedmasse (fysisk balance)   1.000 m3   \n",
      "2226  SKOVRG02                       Vedmasse (økonomisk balance)   mio. kr.   \n",
      "2227  SKOVRG03                 Skovareal (Kyoto) (fysisk balance)        km2   \n",
      "\n",
      "                  updated firstPeriod latestPeriod  active  \\\n",
      "0     2021-02-11T08:00:00      2008K1       2021K1    True   \n",
      "1     2021-02-11T08:00:00      2008K1       2021K1    True   \n",
      "2     2021-02-11T08:00:00      2008K1       2021K1    True   \n",
      "3     2021-02-11T08:00:00      2008K1       2021K1    True   \n",
      "4     2021-02-11T08:00:00      2008K1       2021K1    True   \n",
      "...                   ...         ...          ...     ...   \n",
      "2223  2020-12-22T08:00:00        2010         2020    True   \n",
      "2224  2021-01-13T08:00:00        2010         2020    True   \n",
      "2225  2020-06-24T08:00:00        2005         2018    True   \n",
      "2226  2020-06-24T08:00:00        2005         2018    True   \n",
      "2227  2020-06-24T08:00:00        2005         2018    True   \n",
      "\n",
      "                                              variables  \n",
      "0                 [område, køn, alder, civilstand, tid]  \n",
      "1            [område, køn, alder, statsborgerskab, tid]  \n",
      "2     [område, køn, alder, herkomst, oprindelsesland...  \n",
      "3            [område, køn, alder, statsborgerskab, tid]  \n",
      "4                   [område, køn, alder, herkomst, tid]  \n",
      "...                                                 ...  \n",
      "2223      [balanceposter, fiske- og skaldyrsarter, tid]  \n",
      "2224      [balanceposter, fiske- og skaldyrsarter, tid]  \n",
      "2225              [balanceposter, træsort, region, tid]  \n",
      "2226              [balanceposter, træsort, region, tid]  \n",
      "2227                       [balanceposter, region, tid]  \n",
      "\n",
      "[2228 rows x 8 columns]\n"
     ]
    }
   ],
   "source": [
    "import pandas as pd \n",
    "url = 'https://api.statbank.dk/v1/tables?format=JSON'\n",
    "dst = pd.read_json(url)\n",
    "print(dst)\n"
   ]
  },
  {
   "cell_type": "code",
   "execution_count": 15,
   "metadata": {},
   "outputs": [
    {
     "name": "stdout",
     "output_type": "stream",
     "text": [
      "  CIVILSTAND;TID;INDHOLD\n",
      "0        F;2008K1;428864\n",
      "1        F;2008K2;431550\n",
      "2        F;2008K3;432713\n",
      "3        F;2008K4;432156\n",
      "4        F;2020K1;544588\n",
      "5        F;2020K2;548229\n",
      "6        F;2020K3;550715\n",
      "7        F;2020K4;552419\n"
     ]
    }
   ],
   "source": [
    "import pandas as pd \n",
    "\n",
    "\n",
    "url = 'https://api.statbank.dk/v1/data/FOLK1A/CSV?valuePresentation=Code&delimiter=Semicolon&CIVILSTAND=F&Tid=2008K1%2C2008K2%2C2008K3%2C2008K4%2C2020K1%2C2020K2%2C2020K3%2C2020K4'\n",
    "data=pd.read_csv(url)\n",
    "print(data)\n"
   ]
  }
 ],
 "metadata": {
  "kernelspec": {
   "display_name": "Python 3",
   "language": "python",
   "name": "python3"
  },
  "language_info": {
   "codemirror_mode": {
    "name": "ipython",
    "version": 3
   },
   "file_extension": ".py",
   "mimetype": "text/x-python",
   "name": "python",
   "nbconvert_exporter": "python",
   "pygments_lexer": "ipython3",
   "version": "3.8.5"
  }
 },
 "nbformat": 4,
 "nbformat_minor": 4
}

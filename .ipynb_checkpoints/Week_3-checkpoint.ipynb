{
 "cells": [
  {
   "cell_type": "markdown",
   "metadata": {},
   "source": [
    "## Status \n",
    "\n",
    "I have solved exercises from 1-8. Still needs to complete the 9-10, but I had a major bug extracting data from a CSV file since it comes out as a string but my method is looking for a number. I tried to go all over google and I will ask about this tomorrow. \n",
    "\n",
    "With that in mind I hardcoded some grade values for the last part (1.8) where you have to do a bar graph. \n",
    "I will do 9 and 10, but I think I might need an explati"
   ]
  },
  {
   "cell_type": "code",
   "execution_count": 7,
   "metadata": {},
   "outputs": [],
   "source": [
    "from statistics import mean \n",
    "class Student(): \n",
    "    def __init__(self, name, gender, data_sheet, image_url, grades=[]):\n",
    "        \"\"\"A student has a data_sheet containing multiple courses\"\"\"\n",
    "        self.name = name\n",
    "        self.gender = gender\n",
    "        self.data_sheet = data_sheet\n",
    "        self.image_url = image_url\n",
    "        self.grades = grades\n",
    "        \n",
    "    def __repr__(self):\n",
    "        return '(%r, ,%r ,%r ,%r, %r)' % (self.name, self.gender, self.data_sheet, self.image_url, self.grades)\n",
    "    \n",
    "        \n",
    " \n",
    "    def get_avg_grade(self):\n",
    "        \"\"\"Calculate avg grades for a student\"\"\"\n",
    "        return sum(self.grades) / len(self.grades)\n",
    "        #return mean(self.grades) \n",
    "    \n",
    "    def __iter__(self):\n",
    "        return iter([self.name, self.gender, self.data_sheet, self.image_url, self.grades])\n",
    "    \n",
    "    "
   ]
  },
  {
   "cell_type": "code",
   "execution_count": 8,
   "metadata": {},
   "outputs": [],
   "source": [
    "class DataSheet():\n",
    "    def __init__(self, course_list=[]):\n",
    "        \"\"\"A datasheet contains a list of courses stored in an array\"\"\"\n",
    "        self.course_list = course_list\n",
    "        \n",
    "    def get_grades_as_list(self):\n",
    "        \"\"\"Method to get all grades as a list\"\"\"\n",
    "        list_of_grades = [] \n",
    "        for course in range(len(self.course_list)):\n",
    "            list_of_grades.append(course.grade)\n",
    "        return list_of_grades    \n",
    "    \n",
    "    def __repr__(self):\n",
    "        return '(%r)' % (self.course_list)\n",
    "                "
   ]
  },
  {
   "cell_type": "code",
   "execution_count": 18,
   "metadata": {},
   "outputs": [],
   "source": [
    "class Course(): \n",
    "    def __init__(self, name, classroom, teacher, ETCS, grade=0):\n",
    "        \"\"\"A course contains information about the course\"\"\"\n",
    "        self.name = name\n",
    "        self.classroom = classroom\n",
    "        self.teacher = teacher\n",
    "        self.ETCS = ETCS\n",
    "        self.grade = grade\n",
    "\n",
    "    def __repr__(self):\n",
    "        return '(%r, %r, %r, %r)' % (self.name, self.classroom, self.teacher, self.ETCS)"
   ]
  },
  {
   "cell_type": "code",
   "execution_count": 10,
   "metadata": {},
   "outputs": [
    {
     "name": "stdout",
     "output_type": "stream",
     "text": [
      "('Anders Dahl', ,'Female' ,([('Python', '1f', 'Thomas', 15), ('JavaScript', '1e', 'Lars', 15), ('Funktionel programmering', '1d', 'Anders', 7.5)]) ,'google.com', [4, 7, 10, 12, 7])\n"
     ]
    }
   ],
   "source": [
    "import random\n",
    "import csv\n",
    "## Create a function that can generate n number of students\n",
    "\n",
    "python = Course(\"Python\", \"1f\", \"Thomas\", 15)\n",
    "js = Course(\"JavaScript\", \"1e\", \"Lars\", 15)\n",
    "fun = Course(\"Funktionel programmering\", \"1d\", \"Anders\", 7.5)\n",
    "\n",
    "course_list = [python, js, fun]\n",
    "\n",
    "data_sheet = DataSheet(course_list)\n",
    "\n",
    "def generate_students(number_of_students):\n",
    "    first_names = ['Josef', 'Thor', 'Frederik', 'Thomas', 'Lars', 'Anders']\n",
    "    last_names = ['Hansen','Larsen', 'Jensen','Dahl','Marc','Poulsen']\n",
    "    genders = ['Male','Female']\n",
    "    \n",
    "    python = Course(\"Python\", \"1f\", \"Thomas\", 15)\n",
    "    js = Course(\"JavaScript\", \"1e\", \"Lars\", 15)\n",
    "    fun = Course(\"Funktionel programmering\", \"1d\", \"Anders\", 7.5)\n",
    "    course_list = [python, js, fun]\n",
    "    data_sheets = DataSheet(course_list)\n",
    "    image_urls = [\"google.dk\",\"google.com\", \"google.se\"]\n",
    "    grades = [0,2,4,7,10,12]\n",
    "    student_list = []\n",
    "    \n",
    "    for i in range(number_of_students):\n",
    "        name=\"\".join(random.choice(first_names)+\" \"+random.choice(last_names))\n",
    "        gender = random.choice(genders)\n",
    "        data_sheet = data_sheets\n",
    "        image_url = random.choice(image_urls)\n",
    "        grade_list = []\n",
    "        for j in range(5):\n",
    "            grade = random.choice(grades)\n",
    "            grade_list.append(grade)\n",
    "        s = Student(name, gender, data_sheet, image_url, grade_list)\n",
    "        student_list.append(s)\n",
    "    return student_list\n",
    "\n",
    "## Write the result to a CSV file\n",
    "def write_list_to_file(output_file, lst):\n",
    "    \n",
    "    csv.register_dialect('myDialect', delimiter=',')\n",
    "    \n",
    "    with open(output_file, 'w') as output_file:\n",
    "        output_writer = csv.writer(output_file, dialect = \"myDialect\")\n",
    "        print(lst[0])\n",
    "        fields = [\"Name\", \"Gender\", \"Classes\", \"Image url\", \"Grades\"]\n",
    "        output_writer.writerow(fields)\n",
    "        for student in lst:\n",
    "            output_writer.writerow(list(student))\n",
    "    \n",
    "            \n",
    "\n",
    "list_of_students = generate_students(5)\n",
    "#print(list_of_students)\n",
    "write_list_to_file('studentfile.csv', list_of_students)\n",
    "\n"
   ]
  },
  {
   "cell_type": "code",
   "execution_count": 19,
   "metadata": {},
   "outputs": [],
   "source": [
    "## Read student data into a list of students from a CSV file as a list\n",
    "\n",
    "def read_csv_filecontent(file):\n",
    "    list_of_students = []\n",
    "    grades = []\n",
    "    with open(file) as csv_file:\n",
    "        csv_reader = csv.reader(csv_file)\n",
    "        header = next(csv_reader)\n",
    "        for lines in csv_reader:\n",
    "            name = lines[0]\n",
    "            gender = lines[1]\n",
    "            classes = lines[2]\n",
    "            image_url = lines[3]  \n",
    "            grades = lines[4]\n",
    "            \n",
    "            \n",
    "            s = Student(name, gender, classes, image_url,grades)\n",
    "            \n",
    "            list_of_students.append(s)\n",
    "        \n",
    "        return list_of_students       \n",
    "    \n",
    "st_lst = read_csv_filecontent(\"./studentfile.csv\")\n",
    "#print(st_lst[1].grades)\n",
    "\n",
    "\n",
    "def sort_list_by_avg_grade(student_list):\n",
    "    for student in student_list:\n",
    "        print(student.grades)\n",
    "        print(student.get_avg_grade())\n",
    "    #Average metode virker, men fejlen kommer fordi grades er \n",
    "    # en string og ikke en liste af tal. \n",
    "    \n",
    "    return student.list.grades(sort)\n"
   ]
  },
  {
   "cell_type": "code",
   "execution_count": 13,
   "metadata": {},
   "outputs": [
    {
     "data": {
      "text/plain": [
       "([0, 1, 2, 3],\n",
       " [Text(0, 0, ''), Text(0, 0, ''), Text(0, 0, ''), Text(0, 0, '')])"
      ]
     },
     "execution_count": 13,
     "metadata": {},
     "output_type": "execute_result"
    },
    {
     "data": {
      "image/png": "[encoded data removed]",
      "text/plain": [
       "<Figure size 432x288 with 1 Axes>"
      ]
     },
     "metadata": {
      "needs_background": "light"
     },
     "output_type": "display_data"
    }
   ],
   "source": [
    "import matplotlib.pyplot as plt\n",
    "# Generate a bar chart\n",
    "\n",
    "\n",
    "student_list = [student.name for student in st_lst]\n",
    "#Autogenerate grades since I cant access them from student. ASK ABOUT THIS IN CLASS\n",
    "#Should have been the value from avg grades\n",
    "grades = [0,2,4,7,10,12]\n",
    "student_grades = []\n",
    "for j in range(len(student_list)):\n",
    "    grade = random.choice(grades)\n",
    "    student_grades.append(grade)\n",
    "\n",
    "\n",
    "#Creating figure, setting x and y values and plotting the values to a graph\n",
    "plt.figure()\n",
    "x_values = student_list\n",
    "y_values = student_grades\n",
    "\n",
    "#For showing it as a bar plot\n",
    "plt.bar(x_values, y_values, width=0.5,align='center')\n",
    "\n",
    "#Creating title and setting values for x and y\n",
    "plt.title(\"Student grades\", fontsize=24)\n",
    "plt.ylabel(\"Average grade\", fontsize=14)\n",
    "\n",
    "plt.xticks(rotation=45, horizontalalignment='right',fontweight='light')"
   ]
  }
 ],
 "metadata": {
  "kernelspec": {
   "display_name": "Python 3",
   "language": "python",
   "name": "python3"
  },
  "language_info": {
   "codemirror_mode": {
    "name": "ipython",
    "version": 3
   },
   "file_extension": ".py",
   "mimetype": "text/x-python",
   "name": "python",
   "nbconvert_exporter": "python",
   "pygments_lexer": "ipython3",
   "version": "3.8.5"
  }
 },
 "nbformat": 4,
 "nbformat_minor": 4
}

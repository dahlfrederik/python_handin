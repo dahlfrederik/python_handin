{
 "cells": [
  {
   "cell_type": "code",
   "execution_count": 14,
   "metadata": {},
   "outputs": [
    {
     "name": "stdout",
     "output_type": "stream",
     "text": [
      "This\n",
      "Was\n",
      "Added\n",
      "As\n",
      "Many\n",
      "Parameters\n"
     ]
    }
   ],
   "source": [
    "#1\n",
    "#A Print content of a file to the console \n",
    "\n",
    "def print_file_content(file):\n",
    "    file_object = open(file)\n",
    "    contents = file_object.read()\n",
    "    print(contents)\n",
    "    \n",
    "print_file_content(\"./testfilecsv.csv\")\n",
    "\n"
   ]
  },
  {
   "cell_type": "code",
   "execution_count": 10,
   "metadata": {},
   "outputs": [
    {
     "name": "stdout",
     "output_type": "stream",
     "text": [
      "Add\n",
      "this\n",
      "to\n",
      "file\n"
     ]
    }
   ],
   "source": [
    "#1 \n",
    "#B: take a list of tuple and write each element to a new line in file\n",
    "new_tuplelst = (\"Add\", \"this\", \"to\", \"file\")\n",
    "\n",
    "def write_list_to_file(output_file, lst):\n",
    "    file_object = open(output_file, 'w')\n",
    "    file_object.write('\\n'.join(lst))\n",
    "\n",
    "write_list_to_file('testfilecsv.csv', new_tuplelst)\n",
    "\n",
    "print_file_content('testfilecsv.csv')"
   ]
  },
  {
   "cell_type": "code",
   "execution_count": 13,
   "metadata": {},
   "outputs": [
    {
     "name": "stdout",
     "output_type": "stream",
     "text": [
      "This\n",
      "Was\n",
      "Added\n",
      "As\n",
      "Many\n",
      "Parameters\n"
     ]
    }
   ],
   "source": [
    "#1\n",
    "#B\n",
    "#a rewrite the function so that it gets an arbitrary number of strings instead of a list\n",
    "def write_list_to_file_v2(output_file, *text_to_add):\n",
    "    file_object = open(output_file, 'w')\n",
    "    file_object.write('\\n'.join(text_to_add))\n",
    "\n",
    "write_list_to_file_v2('testfilecsv.csv', \"This\", \"Was\", \"Added\", \"As\", \"Many\", \"Parameters\")\n",
    "\n",
    "print_file_content('testfilecsv.csv')"
   ]
  },
  {
   "cell_type": "code",
   "execution_count": 17,
   "metadata": {},
   "outputs": [
    {
     "name": "stdout",
     "output_type": "stream",
     "text": [
      "['This\\n', 'Was\\n', 'Added\\n', 'As\\n', 'Many\\n', 'Parameters']\n"
     ]
    }
   ],
   "source": [
    "#1\n",
    "#C take a csv file and read each row into a list\n",
    "\n",
    "def read_csv(input_file):\n",
    "    output_list = []\n",
    "    file_object = open(input_file, 'r')\n",
    "    for row in file_object:\n",
    "        output_list.append(row)\n",
    "    print(output_list)\n",
    "    \n",
    "read_csv('testfilecsv.csv')"
   ]
  }
 ],
 "metadata": {
  "kernelspec": {
   "display_name": "Python 3",
   "language": "python",
   "name": "python3"
  },
  "language_info": {
   "codemirror_mode": {
    "name": "ipython",
    "version": 3
   },
   "file_extension": ".py",
   "mimetype": "text/x-python",
   "name": "python",
   "nbconvert_exporter": "python",
   "pygments_lexer": "ipython3",
   "version": "3.8.5"
  }
 },
 "nbformat": 4,
 "nbformat_minor": 4
}
